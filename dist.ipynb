{
 "cells": [
  {
   "cell_type": "code",
   "execution_count": 1,
   "metadata": {},
   "outputs": [
    {
     "name": "stdout",
     "output_type": "stream",
     "text": [
      "device: mps\n"
     ]
    }
   ],
   "source": [
    "import torch\n",
    "import numpy as np\n",
    "import random\n",
    "import torch.nn as nn\n",
    "import torch.nn.functional as F\n",
    "\n",
    "from tqdm import tqdm\n",
    "from sklearn.decomposition import PCA\n",
    "import seaborn as sns\n",
    "import matplotlib.pyplot as plt\n",
    "\n",
    "if torch.cuda.is_available():\n",
    "    device = torch.device(\"cuda\")\n",
    "elif torch.backends.mps.is_available():\n",
    "    device = torch.device(\"mps\")\n",
    "else:\n",
    "    device = torch.device(\"cpu\")\n",
    "\n",
    "print(\"device:\", device)"
   ]
  },
  {
   "cell_type": "code",
   "execution_count": 2,
   "metadata": {},
   "outputs": [
    {
     "name": "stdout",
     "output_type": "stream",
     "text": [
      "# Nodes: 2708\n",
      "# Edges: 10556\n",
      "tensor([[   0,  633],\n",
      "        [   0, 1862],\n",
      "        [   0, 2582],\n",
      "        ...,\n",
      "        [2707,  598],\n",
      "        [2707, 1473],\n",
      "        [2707, 2706]], device='mps:0')\n"
     ]
    }
   ],
   "source": [
    "# Preprocess data\n",
    "\n",
    "edge = torch.load(\"./Cora/edge.pt\")\n",
    "edge = torch.transpose(edge, 0, 1)\n",
    "\n",
    "feat = torch.load(\"./Cora/feat.pt\").type(torch.float32)\n",
    "\n",
    "label = torch.load(\"./Cora/label.pt\")\n",
    "\n",
    "degree = torch.from_numpy(np.bincount(edge[:, 0]))\n",
    "\n",
    "feat = feat.to(device)\n",
    "degree = degree.to(device)\n",
    "edge = edge.to(device)\n",
    "\n",
    "\n",
    "print(f\"# Nodes: {feat.shape[0]}\")\n",
    "print(f\"# Edges: {edge.shape[0]}\")\n",
    "\n",
    "num_nodes, dim_feat = feat.shape\n",
    "num_label = max(label) + 1\n",
    "dim_hidden = 128\n",
    "\n",
    "adj = torch.zeros((num_nodes, num_nodes), device=device)\n",
    "print(edge)\n",
    "for i, j in edge:\n",
    "    adj[i, j] += 1"
   ]
  },
  {
   "cell_type": "code",
   "execution_count": 3,
   "metadata": {},
   "outputs": [],
   "source": [
    "class GraphSageLayer(nn.Module):\n",
    "\n",
    "    def __init__(self, dim_in: int, dim_out: int):\n",
    "        super(GraphSageLayer, self).__init__()\n",
    "\n",
    "        self.dim_in = dim_in\n",
    "        self.dim_out = dim_out\n",
    "        self.act = nn.ReLU()\n",
    "\n",
    "        self.weight = nn.Parameter(data=torch.zeros((dim_in, dim_out), device=device), requires_grad=False)\n",
    "        nn.init.xavier_uniform_(self.weight)\n",
    "\n",
    "    def forward(self, feat: torch.Tensor,\n",
    "                adjacency: torch.Tensor,\n",
    "                activate: bool) -> torch.Tensor:\n",
    "        \n",
    "        adj_eye = adjacency + torch.eye(num_nodes, device=device)\n",
    "        degree = torch.sum(adj_eye, dim=1)\n",
    "        # diag_inv_sqrt = torch.diag(torch.sqrt(1/degree))\n",
    "        dgr_inv = torch.diag(1/degree)\n",
    "        \n",
    "        laplace_sym = dgr_inv @ adj_eye #@ diag_inv_sqrt\n",
    "        out = laplace_sym @ feat @ self.weight\n",
    "        if activate:\n",
    "            out = self.act(out)\n",
    "        \n",
    "        return out\n",
    "    \n",
    "class GraphSage(nn.Module):\n",
    "\n",
    "    def __init__(self, num_layers: int,\n",
    "                 dim_in: int,\n",
    "                 dim_hidden: int,\n",
    "                 dim_out: int):\n",
    "\n",
    "        super(GraphSage, self).__init__()\n",
    "\n",
    "        self.num_layers = num_layers\n",
    "        self.dim_in = dim_in\n",
    "        self.dim_hidden = dim_hidden\n",
    "        self.dim_out = dim_out\n",
    "\n",
    "        self.layers = nn.ModuleList()\n",
    "        for l in range(num_layers):\n",
    "            self.layers.append(GraphSageLayer(self.dim_in if l == 0 else self.dim_hidden, self.dim_hidden if l < num_layers-1 else self.dim_out))\n",
    "\n",
    "\n",
    "    def forward(self, feat: torch.Tensor,\n",
    "                adj: torch.Tensor) -> torch.Tensor:\n",
    "\n",
    "        x_in = feat\n",
    "        for layer in self.layers:\n",
    "            x_out = layer(x_in, adj, (False if self.layers[-1] == layer else True))\n",
    "            x_in = x_out\n",
    "\n",
    "        return x_out"
   ]
  },
  {
   "cell_type": "code",
   "execution_count": 37,
   "metadata": {},
   "outputs": [
    {
     "name": "stderr",
     "output_type": "stream",
     "text": [
      " 10%|█         | 1/10 [00:00<00:01,  5.09it/s]"
     ]
    },
    {
     "name": "stdout",
     "output_type": "stream",
     "text": [
      "1 0\n",
      "[-0.3035706]\n",
      "[0.04478689]\n",
      "1 1\n",
      "[-0.28699145]\n",
      "[0.05476156]\n",
      "1 2\n",
      "[0.19857413]\n",
      "[0.10594685]\n",
      "1 3\n",
      "[0.24167086]\n",
      "[0.09691481]\n",
      "1 4\n",
      "[0.11482083]\n",
      "[0.05524124]\n",
      "1 5\n",
      "[-0.33257157]\n",
      "[0.03470299]\n",
      "1 6\n",
      "[-0.34259793]\n",
      "[0.05689025]\n",
      "[-0.10152368]\n"
     ]
    },
    {
     "name": "stderr",
     "output_type": "stream",
     "text": [
      " 20%|██        | 2/10 [00:00<00:01,  4.02it/s]"
     ]
    },
    {
     "name": "stdout",
     "output_type": "stream",
     "text": [
      "2 0\n",
      "[-0.09143926]\n",
      "[0.00891152]\n",
      "2 1\n",
      "[0.05337184]\n",
      "[0.0083474]\n",
      "2 2\n",
      "[0.0853442]\n",
      "[0.01635472]\n",
      "2 3\n",
      "[0.10756865]\n",
      "[0.03599006]\n",
      "2 4\n",
      "[-0.03925185]\n",
      "[0.02028248]\n",
      "2 5\n",
      "[-0.21562187]\n",
      "[0.01723618]\n",
      "2 6\n",
      "[-0.12319505]\n",
      "[0.00563867]\n",
      "[-0.03188905]\n"
     ]
    },
    {
     "name": "stderr",
     "output_type": "stream",
     "text": [
      " 30%|███       | 3/10 [00:00<00:02,  3.12it/s]"
     ]
    },
    {
     "name": "stdout",
     "output_type": "stream",
     "text": [
      "3 0\n",
      "[-0.05228771]\n",
      "[0.00664855]\n",
      "3 1\n",
      "[-0.10136565]\n",
      "[0.00793473]\n",
      "3 2\n",
      "[-0.00506045]\n",
      "[0.00754746]\n",
      "3 3\n",
      "[0.0149453]\n",
      "[0.0149472]\n",
      "3 4\n",
      "[0.08894083]\n",
      "[0.0177511]\n",
      "3 5\n",
      "[-0.00633751]\n",
      "[0.00988528]\n",
      "3 6\n",
      "[-0.03200487]\n",
      "[0.01112059]\n",
      "[-0.01331001]\n"
     ]
    },
    {
     "name": "stderr",
     "output_type": "stream",
     "text": [
      " 40%|████      | 4/10 [00:01<00:02,  2.74it/s]"
     ]
    },
    {
     "name": "stdout",
     "output_type": "stream",
     "text": [
      "4 0\n",
      "[-0.01136504]\n",
      "[0.00251704]\n",
      "4 1\n",
      "[-0.02550538]\n",
      "[0.00388542]\n",
      "4 2\n",
      "[-0.04681129]\n",
      "[0.00383489]\n",
      "4 3\n",
      "[0.01473593]\n",
      "[0.00799393]\n",
      "4 4\n",
      "[0.04350341]\n",
      "[0.00795863]\n",
      "4 5\n",
      "[-0.01457595]\n",
      "[0.00469774]\n",
      "4 6\n",
      "[0.01582268]\n",
      "[0.00718148]\n",
      "[-0.00345652]\n"
     ]
    },
    {
     "name": "stderr",
     "output_type": "stream",
     "text": [
      " 50%|█████     | 5/10 [00:01<00:01,  2.53it/s]"
     ]
    },
    {
     "name": "stdout",
     "output_type": "stream",
     "text": [
      "5 0\n",
      "[-0.01441616]\n",
      "[0.00241273]\n",
      "5 1\n",
      "[-0.04059884]\n",
      "[0.00392766]\n",
      "5 2\n",
      "[-0.02904196]\n",
      "[0.00269421]\n",
      "5 3\n",
      "[0.01954638]\n",
      "[0.00621024]\n",
      "5 4\n",
      "[0.01225599]\n",
      "[0.00519688]\n",
      "5 5\n",
      "[0.00591148]\n",
      "[0.00293726]\n",
      "5 6\n",
      "[0.01687753]\n",
      "[0.00522975]\n",
      "[-0.00420937]\n"
     ]
    },
    {
     "name": "stderr",
     "output_type": "stream",
     "text": [
      " 60%|██████    | 6/10 [00:02<00:01,  2.36it/s]"
     ]
    },
    {
     "name": "stdout",
     "output_type": "stream",
     "text": [
      "6 0\n",
      "[-0.00484653]\n",
      "[0.00117377]\n",
      "6 1\n",
      "[-0.00912331]\n",
      "[0.00134036]\n",
      "6 2\n",
      "[-0.01220683]\n",
      "[0.00122678]\n",
      "6 3\n",
      "[0.00219186]\n",
      "[0.00308836]\n",
      "6 4\n",
      "[0.00759378]\n",
      "[0.00307685]\n",
      "6 5\n",
      "[-0.00166058]\n",
      "[0.00146779]\n",
      "6 6\n",
      "[0.02361263]\n",
      "[0.00284874]\n",
      "[0.00079443]\n"
     ]
    },
    {
     "name": "stderr",
     "output_type": "stream",
     "text": [
      " 70%|███████   | 7/10 [00:02<00:01,  2.29it/s]"
     ]
    },
    {
     "name": "stdout",
     "output_type": "stream",
     "text": [
      "7 0\n",
      "[-0.01318838]\n",
      "[0.00059968]\n",
      "7 1\n",
      "[-0.02167068]\n",
      "[0.00096998]\n",
      "7 2\n",
      "[-0.01475505]\n",
      "[0.00075316]\n",
      "7 3\n",
      "[0.00978401]\n",
      "[0.00190389]\n",
      "7 4\n",
      "[0.01635067]\n",
      "[0.00182624]\n",
      "7 5\n",
      "[-0.00277606]\n",
      "[0.00105942]\n",
      "7 6\n",
      "[0.00754389]\n",
      "[0.00208766]\n",
      "[-0.00267309]\n"
     ]
    },
    {
     "name": "stderr",
     "output_type": "stream",
     "text": [
      " 80%|████████  | 8/10 [00:03<00:00,  2.26it/s]"
     ]
    },
    {
     "name": "stdout",
     "output_type": "stream",
     "text": [
      "8 0\n",
      "[-0.00510638]\n",
      "[0.00013819]\n",
      "8 1\n",
      "[-0.01163035]\n",
      "[0.0003318]\n",
      "8 2\n",
      "[-0.00602678]\n",
      "[0.0002953]\n",
      "8 3\n",
      "[0.00137361]\n",
      "[0.00072001]\n",
      "8 4\n",
      "[0.00691672]\n",
      "[0.00067691]\n",
      "8 5\n",
      "[0.0030935]\n",
      "[0.00041004]\n",
      "8 6\n",
      "[0.01024065]\n",
      "[0.00062301]\n",
      "[-0.00016272]\n"
     ]
    },
    {
     "name": "stderr",
     "output_type": "stream",
     "text": [
      " 90%|█████████ | 9/10 [00:03<00:00,  2.09it/s]"
     ]
    },
    {
     "name": "stdout",
     "output_type": "stream",
     "text": [
      "9 0\n",
      "[-0.00401005]\n",
      "[9.8971446e-05]\n",
      "9 1\n",
      "[-0.00590047]\n",
      "[9.497875e-05]\n",
      "9 2\n",
      "[-0.00264975]\n",
      "[0.0001177]\n",
      "9 3\n",
      "[0.00139007]\n",
      "[0.00032522]\n",
      "9 4\n",
      "[0.00298975]\n",
      "[0.00024643]\n",
      "9 5\n",
      "[0.00132903]\n",
      "[0.00014815]\n",
      "9 6\n",
      "[0.00549301]\n",
      "[0.00030914]\n",
      "[-0.00019406]\n"
     ]
    },
    {
     "name": "stderr",
     "output_type": "stream",
     "text": [
      "100%|██████████| 10/10 [00:04<00:00,  2.34it/s]"
     ]
    },
    {
     "name": "stdout",
     "output_type": "stream",
     "text": [
      "10 0\n",
      "[-0.00220952]\n",
      "[7.005722e-05]\n",
      "10 1\n",
      "[-0.006438]\n",
      "[9.736479e-05]\n",
      "10 2\n",
      "[-0.00677567]\n",
      "[7.313288e-05]\n",
      "10 3\n",
      "[0.00263432]\n",
      "[0.00024422]\n",
      "10 4\n",
      "[0.00546122]\n",
      "[0.00016247]\n",
      "10 5\n",
      "[0.00012778]\n",
      "[8.812154e-05]\n",
      "10 6\n",
      "[0.00269665]\n",
      "[0.00016473]\n",
      "[-0.00064332]\n"
     ]
    },
    {
     "name": "stderr",
     "output_type": "stream",
     "text": [
      "\n"
     ]
    }
   ],
   "source": [
    "LAYERS = list(range(1, 11))\n",
    "\n",
    "dim_in = feat.shape[1]\n",
    "dim_hidden = 700\n",
    "dim_out = 100\n",
    "SEED = 42\n",
    "\n",
    "torch.manual_seed(SEED)\n",
    "model = GraphSage(max(LAYERS), dim_in, dim_hidden, dim_out)\n",
    "model.eval()\n",
    "\n",
    "for num_layer in tqdm(LAYERS):\n",
    "\n",
    "    feature_matrix = model(feat, adj)\n",
    "    feature_matrix = feature_matrix.detach().cpu().numpy()\n",
    "    \n",
    "    pca= PCA(n_components=1)\n",
    "    embedding = pca.fit_transform(feature_matrix)\n",
    "    \n",
    "    tmp = []\n",
    "    for l in range(0, 7):\n",
    "        class_embedding = embedding[label == l]\n",
    "        print(num_layer, l)\n",
    "        print(np.mean(class_embedding, axis=0))\n",
    "        print(np.var(class_embedding, axis=0))\n",
    "    "
   ]
  },
  {
   "cell_type": "code",
   "execution_count": 30,
   "metadata": {},
   "outputs": [
    {
     "data": {
      "text/plain": [
       "351"
      ]
     },
     "execution_count": 30,
     "metadata": {},
     "output_type": "execute_result"
    }
   ],
   "source": [
    "len(embedding[label==0])"
   ]
  },
  {
   "cell_type": "code",
   "execution_count": null,
   "metadata": {},
   "outputs": [],
   "source": []
  }
 ],
 "metadata": {
  "kernelspec": {
   "display_name": ".venv",
   "language": "python",
   "name": "python3"
  },
  "language_info": {
   "codemirror_mode": {
    "name": "ipython",
    "version": 3
   },
   "file_extension": ".py",
   "mimetype": "text/x-python",
   "name": "python",
   "nbconvert_exporter": "python",
   "pygments_lexer": "ipython3",
   "version": "3.12.3"
  }
 },
 "nbformat": 4,
 "nbformat_minor": 2
}
