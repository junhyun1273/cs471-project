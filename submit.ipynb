{
 "cells": [
  {
   "cell_type": "markdown",
   "metadata": {},
   "source": [
    "## CS471 Lab Project"
   ]
  },
  {
   "cell_type": "code",
   "execution_count": 2,
   "metadata": {},
   "outputs": [],
   "source": [
    "# load dependencies\n",
    "import torch\n",
    "import torch.nn as nn\n",
    "import torch.nn.functional as F\n",
    "import numpy as np\n",
    "import networkx as nx\n",
    "import random\n",
    "import os.path as osp\n",
    "\n",
    "import matplotlib.pyplot as plt\n",
    "from itertools import combinations\n",
    "from tqdm import tqdm\n",
    "\n",
    "# reproducibility\n",
    "SEED = 42\n",
    "random.seed(SEED)\n",
    "np.random.seed(SEED)\n",
    "torch.manual_seed(SEED)\n",
    "torch.cuda.manual_seed(SEED)"
   ]
  },
  {
   "cell_type": "markdown",
   "metadata": {},
   "source": [
    "## Load Dataset"
   ]
  },
  {
   "cell_type": "code",
   "execution_count": 26,
   "metadata": {},
   "outputs": [],
   "source": [
    "# Load Karate Club Graph\n",
    "karate_graph = nx.karate_club_graph()\n",
    "karate_num_node = karate_graph.number_of_nodes()\n",
    "karate_feat = torch.eye(karate_num_node, dtype=torch.float32)\n",
    "karate_adj = torch.from_numpy(nx.to_numpy_array(karate_graph, weight=None)).type(torch.float32)\n",
    "LABEL_ENCODE = {\"Mr. Hi\": 0, \"Officer\": 1}\n",
    "karate_label = torch.tensor([LABEL_ENCODE[info['club']] for _, info in karate_graph.nodes.data()])\n",
    "\n",
    "# Upload Cora dataset\n",
    "if not osp.exists(\"Cora\"):\n",
    "    from google.colab import files\n",
    "    f = files.upload()\n",
    "    !unzip Cora.zip\n",
    "\n",
    "# Preprocess Cora\n",
    "cora_edge = torch.load(\"./Cora/edge.pt\")\n",
    "cora_edge = torch.transpose(cora_edge, 0, 1)\n",
    "cora_feat = torch.load(\"./Cora/feat.pt\").type(torch.float32)\n",
    "cora_label = torch.load(\"./Cora/label.pt\")\n",
    "\n",
    "cora_num_node = cora_feat.shape[0]\n",
    "cora_adj = torch.zeros((cora_num_node, cora_num_node))\n",
    "cora_adj[cora_edge[:, 0], cora_edge[:, 1]] = 1"
   ]
  },
  {
   "cell_type": "markdown",
   "metadata": {},
   "source": [
    "### Experiment 1"
   ]
  },
  {
   "cell_type": "code",
   "execution_count": null,
   "metadata": {},
   "outputs": [],
   "source": []
  }
 ],
 "metadata": {
  "kernelspec": {
   "display_name": ".venv",
   "language": "python",
   "name": "python3"
  },
  "language_info": {
   "codemirror_mode": {
    "name": "ipython",
    "version": 3
   },
   "file_extension": ".py",
   "mimetype": "text/x-python",
   "name": "python",
   "nbconvert_exporter": "python",
   "pygments_lexer": "ipython3",
   "version": "3.12.3"
  }
 },
 "nbformat": 4,
 "nbformat_minor": 2
}
