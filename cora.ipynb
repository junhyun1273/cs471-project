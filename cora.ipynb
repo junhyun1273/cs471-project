{
 "cells": [
  {
   "cell_type": "code",
   "execution_count": 1,
   "metadata": {},
   "outputs": [
    {
     "name": "stdout",
     "output_type": "stream",
     "text": [
      "device: mps\n"
     ]
    }
   ],
   "source": [
    "import torch\n",
    "import numpy as np\n",
    "import random\n",
    "import torch.nn as nn\n",
    "import torch.nn.functional as F\n",
    "\n",
    "from tqdm import tqdm\n",
    "import seaborn as sns\n",
    "import matplotlib.pyplot as plt\n",
    "\n",
    "if torch.cuda.is_available():\n",
    "    device = torch.device(\"cuda\")\n",
    "elif torch.backends.mps.is_available():\n",
    "    device = torch.device(\"mps\")\n",
    "else:\n",
    "    device = torch.device(\"cpu\")\n",
    "\n",
    "print(\"device:\", device)"
   ]
  },
  {
   "cell_type": "code",
   "execution_count": 2,
   "metadata": {},
   "outputs": [
    {
     "name": "stdout",
     "output_type": "stream",
     "text": [
      "# Nodes: 2708\n",
      "# Edges: 10556\n",
      "tensor([[   0,  633],\n",
      "        [   0, 1862],\n",
      "        [   0, 2582],\n",
      "        ...,\n",
      "        [2707,  598],\n",
      "        [2707, 1473],\n",
      "        [2707, 2706]], device='mps:0')\n"
     ]
    }
   ],
   "source": [
    "# Preprocess data\n",
    "\n",
    "edge = torch.load(\"./Cora/edge.pt\")\n",
    "edge = torch.transpose(edge, 0, 1)\n",
    "\n",
    "feat = torch.load(\"./Cora/feat.pt\").type(torch.float32)\n",
    "\n",
    "label = torch.load(\"./Cora/label.pt\")\n",
    "\n",
    "degree = torch.from_numpy(np.bincount(edge[:, 0]))\n",
    "\n",
    "feat = feat.to(device)\n",
    "degree = degree.to(device)\n",
    "edge = edge.to(device)\n",
    "\n",
    "\n",
    "print(f\"# Nodes: {feat.shape[0]}\")\n",
    "print(f\"# Edges: {edge.shape[0]}\")\n",
    "\n",
    "num_nodes, dim_feat = feat.shape\n",
    "num_label = max(label) + 1\n",
    "dim_hidden = 128\n",
    "\n",
    "adj = torch.zeros((num_nodes, num_nodes), device=device)\n",
    "print(edge)\n",
    "for i, j in edge:\n",
    "    adj[i, j] += 1"
   ]
  },
  {
   "cell_type": "code",
   "execution_count": 3,
   "metadata": {},
   "outputs": [
    {
     "name": "stdout",
     "output_type": "stream",
     "text": [
      "# Train: 2166 (80.0 %)\n",
      "# Valid: 270 (10.0 %)\n",
      "# Test: 272 (10.0 %)\n"
     ]
    }
   ],
   "source": [
    "# Train/Validation/Test Split\n",
    "train_ratio = 0.8\n",
    "valid_ratio = 0.1\n",
    "\n",
    "train_end = int(train_ratio * num_nodes)\n",
    "valid_end = train_end + int(valid_ratio * num_nodes)\n",
    "\n",
    "idx_shuffle = list(range(num_nodes))\n",
    "random.shuffle(idx_shuffle)\n",
    "\n",
    "idx_train = idx_shuffle[:train_end]\n",
    "idx_valid = idx_shuffle[train_end:valid_end]\n",
    "idx_test = idx_shuffle[valid_end:]\n",
    "\n",
    "print(f\"# Train: {len(idx_train)} ({len(idx_train) / num_nodes * 100:.1f} %)\")\n",
    "print(f\"# Valid: {len(idx_valid)} ({len(idx_valid) / num_nodes * 100:.1f} %)\")\n",
    "print(f\"# Test: {len(idx_test)} ({len(idx_test) / num_nodes * 100:.1f} %)\")"
   ]
  },
  {
   "cell_type": "code",
   "execution_count": 3,
   "metadata": {},
   "outputs": [],
   "source": [
    "class GraphSageLayer(nn.Module):\n",
    "\n",
    "    def __init__(self, dim_in: int, dim_out: int):\n",
    "        super(GraphSageLayer, self).__init__()\n",
    "\n",
    "        self.dim_in = dim_in\n",
    "        self.dim_out = dim_out\n",
    "        self.act = nn.ReLU()\n",
    "\n",
    "        self.weight = nn.Parameter(data=torch.zeros((dim_in, dim_out), device=device), requires_grad=False)\n",
    "        nn.init.xavier_uniform_(self.weight)\n",
    "\n",
    "    def forward(self, feat: torch.Tensor,\n",
    "                adjacency: torch.Tensor,\n",
    "                activate: bool) -> torch.Tensor:\n",
    "        \n",
    "        adj_eye = adjacency + torch.eye(num_nodes, device=device)\n",
    "        degree = torch.sum(adj_eye, dim=1)\n",
    "        # diag_inv_sqrt = torch.diag(torch.sqrt(1/degree))\n",
    "        dgr_inv = torch.diag(1/degree)\n",
    "        \n",
    "        laplace_sym = dgr_inv @ adj_eye #@ diag_inv_sqrt\n",
    "        out = laplace_sym @ feat @ self.weight\n",
    "        if activate:\n",
    "            out = self.act(out)\n",
    "        \n",
    "        return out"
   ]
  },
  {
   "cell_type": "code",
   "execution_count": 4,
   "metadata": {},
   "outputs": [],
   "source": [
    "class GraphSage(nn.Module):\n",
    "\n",
    "    def __init__(self, num_layers: int,\n",
    "                 dim_in: int,\n",
    "                 dim_hidden: int,\n",
    "                 dim_out: int):\n",
    "\n",
    "        super(GraphSage, self).__init__()\n",
    "\n",
    "        self.num_layers = num_layers\n",
    "        self.dim_in = dim_in\n",
    "        self.dim_hidden = dim_hidden\n",
    "        self.dim_out = dim_out\n",
    "\n",
    "        self.layers = nn.ModuleList()\n",
    "        for l in range(num_layers):\n",
    "            self.layers.append(GraphSageLayer(self.dim_in if l == 0 else self.dim_hidden, self.dim_hidden if l < num_layers-1 else self.dim_out))\n",
    "\n",
    "\n",
    "    def forward(self, feat: torch.Tensor,\n",
    "                adj: torch.Tensor) -> torch.Tensor:\n",
    "\n",
    "        x_in = feat\n",
    "        for layer in self.layers:\n",
    "            x_out = layer(x_in, adj, (False if self.layers[-1] == layer else True))\n",
    "            x_in = x_out\n",
    "\n",
    "        return x_out"
   ]
  },
  {
   "cell_type": "code",
   "execution_count": 8,
   "metadata": {},
   "outputs": [],
   "source": [
    "from itertools import combinations\n",
    "\n",
    "def measure_node_smoothness(features: np.ndarray) -> np.ndarray:\n",
    "    \n",
    "    def compute_sim(i, j):\n",
    "        x, y = features[i, :], features[j, :]\n",
    "        return np.dot(x, y) / (np.linalg.norm(x) * np.linalg.norm(y))\n",
    "        \n",
    "    compute_sim_vec = np.vectorize(compute_sim)\n",
    "    \n",
    "    n = features.shape[0]\n",
    "    node_comb = combinations(range(n), 2)\n",
    "    i, j = np.array(list(node_comb)).T\n",
    "    similarities = compute_sim_vec(i, j)\n",
    "    # mean_score = np.mean(np.abs(similarities))\n",
    "    # print(mean_score)\n",
    "    return np.mean(np.abs(similarities))\n",
    "\n"
   ]
  },
  {
   "cell_type": "code",
   "execution_count": 9,
   "metadata": {},
   "outputs": [
    {
     "name": "stderr",
     "output_type": "stream",
     "text": [
      "100%|██████████| 10/10 [02:05<00:00, 12.54s/it]"
     ]
    },
    {
     "name": "stdout",
     "output_type": "stream",
     "text": [
      "{1: 0.15689756, 2: 0.5474486, 3: 0.6654273, 4: 0.75878, 5: 0.8405552, 6: 0.8898172, 7: 0.91136557, 8: 0.92212397, 9: 0.9171471, 10: 0.95404464}\n"
     ]
    },
    {
     "name": "stderr",
     "output_type": "stream",
     "text": [
      "\n"
     ]
    }
   ],
   "source": [
    "LAYERS = list(range(1, 11))\n",
    "\n",
    "dim_in = feat.shape[1]\n",
    "dim_hidden = 700\n",
    "dim_out = 700\n",
    "SEED = 42\n",
    "\n",
    "torch.manual_seed(SEED)\n",
    "\n",
    "node_smoothness_dict = dict()\n",
    "\n",
    "for num_layer in tqdm(LAYERS):\n",
    "    model = GraphSage(num_layer, dim_in, dim_hidden, dim_out)\n",
    "    model.eval()\n",
    "\n",
    "    feature_matrix = model(feat, adj)\n",
    "    feature_matrix = feature_matrix.detach().cpu().numpy()\n",
    "    node_smoothness_dict[num_layer] = measure_node_smoothness(feature_matrix)\n",
    "    \n",
    "print(node_smoothness_dict)\n"
   ]
  },
  {
   "cell_type": "code",
   "execution_count": 11,
   "metadata": {},
   "outputs": [],
   "source": [
    "overlap = {1: 0.0020289551, 2: 0.0102909, 3: 0.034722142, 4: 0.10123565, 5: 0.23407511, 6: 0.41416037, 7: 0.58068925, 8: 0.6965425, 9: 0.7644199, 10: 0.80184233}\n"
   ]
  },
  {
   "cell_type": "code",
   "execution_count": 14,
   "metadata": {},
   "outputs": [
    {
     "data": {
      "image/png": "[encoded data removed]",
      "text/plain": [
       "<Figure size 640x480 with 1 Axes>"
      ]
     },
     "metadata": {},
     "output_type": "display_data"
    }
   ],
   "source": [
    "plt.title(\"Experiment on Cora\")\n",
    "plt.plot(LAYERS, overlap.values(), label=\"overlap mean\")\n",
    "plt.plot(LAYERS, node_smoothness_dict.values(), label=\"cosine-similarity mean\")\n",
    "plt.legend()\n",
    "plt.savefig(\"cora.png\")"
   ]
  }
 ],
 "metadata": {
  "kernelspec": {
   "display_name": ".venv",
   "language": "python",
   "name": "python3"
  },
  "language_info": {
   "codemirror_mode": {
    "name": "ipython",
    "version": 3
   },
   "file_extension": ".py",
   "mimetype": "text/x-python",
   "name": "python",
   "nbconvert_exporter": "python",
   "pygments_lexer": "ipython3",
   "version": "3.12.3"
  }
 },
 "nbformat": 4,
 "nbformat_minor": 2
}
